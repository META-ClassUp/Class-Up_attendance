{
 "cells": [
  {
   "cell_type": "code",
   "execution_count": 1,
   "metadata": {},
   "outputs": [
    {
     "name": "stdout",
     "output_type": "stream",
     "text": [
      "Collecting boto3\n",
      "  Downloading boto3-1.34.12-py3-none-any.whl.metadata (6.6 kB)\n",
      "Collecting botocore<1.35.0,>=1.34.12 (from boto3)\n",
      "  Downloading botocore-1.34.12-py3-none-any.whl.metadata (5.6 kB)\n",
      "Collecting jmespath<2.0.0,>=0.7.1 (from boto3)\n",
      "  Downloading jmespath-1.0.1-py3-none-any.whl (20 kB)\n",
      "Collecting s3transfer<0.11.0,>=0.10.0 (from boto3)\n",
      "  Downloading s3transfer-0.10.0-py3-none-any.whl.metadata (1.7 kB)\n",
      "Requirement already satisfied: python-dateutil<3.0.0,>=2.1 in c:\\users\\yeonsik\\miniforge3\\envs\\mapia\\lib\\site-packages (from botocore<1.35.0,>=1.34.12->boto3) (2.8.2)\n",
      "Collecting urllib3<2.1,>=1.25.4 (from botocore<1.35.0,>=1.34.12->boto3)\n",
      "  Downloading urllib3-2.0.7-py3-none-any.whl.metadata (6.6 kB)\n",
      "Requirement already satisfied: six>=1.5 in c:\\users\\yeonsik\\miniforge3\\envs\\mapia\\lib\\site-packages (from python-dateutil<3.0.0,>=2.1->botocore<1.35.0,>=1.34.12->boto3) (1.16.0)\n",
      "Downloading boto3-1.34.12-py3-none-any.whl (139 kB)\n",
      "   ---------------------------------------- 0.0/139.3 kB ? eta -:--:--\n",
      "   -------------------------------------- - 133.1/139.3 kB 4.0 MB/s eta 0:00:01\n",
      "   ---------------------------------------- 139.3/139.3 kB 2.7 MB/s eta 0:00:00\n",
      "Downloading botocore-1.34.12-py3-none-any.whl (11.9 MB)\n",
      "   ---------------------------------------- 0.0/11.9 MB ? eta -:--:--\n",
      "   - -------------------------------------- 0.5/11.9 MB 10.5 MB/s eta 0:00:02\n",
      "   --- ------------------------------------ 1.0/11.9 MB 10.0 MB/s eta 0:00:02\n",
      "   ---- ----------------------------------- 1.5/11.9 MB 10.3 MB/s eta 0:00:02\n",
      "   -------- ------------------------------- 2.4/11.9 MB 12.9 MB/s eta 0:00:01\n",
      "   ---------- ----------------------------- 3.2/11.9 MB 13.8 MB/s eta 0:00:01\n",
      "   -------------- ------------------------- 4.2/11.9 MB 14.9 MB/s eta 0:00:01\n",
      "   ---------------- ----------------------- 4.9/11.9 MB 15.0 MB/s eta 0:00:01\n",
      "   ------------------- -------------------- 5.9/11.9 MB 15.7 MB/s eta 0:00:01\n",
      "   ---------------------- ----------------- 6.7/11.9 MB 15.7 MB/s eta 0:00:01\n",
      "   -------------------------- ------------- 7.8/11.9 MB 16.1 MB/s eta 0:00:01\n",
      "   ---------------------------- ----------- 8.4/11.9 MB 15.9 MB/s eta 0:00:01\n",
      "   -------------------------------- ------- 9.7/11.9 MB 15.5 MB/s eta 0:00:01\n",
      "   -------------------------------------- - 11.4/11.9 MB 16.4 MB/s eta 0:00:01\n",
      "   ---------------------------------------  11.9/11.9 MB 16.4 MB/s eta 0:00:01\n",
      "   ---------------------------------------- 11.9/11.9 MB 15.2 MB/s eta 0:00:00\n",
      "Downloading s3transfer-0.10.0-py3-none-any.whl (82 kB)\n",
      "   ---------------------------------------- 0.0/82.1 kB ? eta -:--:--\n",
      "   ---------------------------------------- 82.1/82.1 kB 4.5 MB/s eta 0:00:00\n",
      "Downloading urllib3-2.0.7-py3-none-any.whl (124 kB)\n",
      "   ---------------------------------------- 0.0/124.2 kB ? eta -:--:--\n",
      "   ---------------------------------------- 124.2/124.2 kB 2.4 MB/s eta 0:00:00\n",
      "Installing collected packages: urllib3, jmespath, botocore, s3transfer, boto3\n",
      "  Attempting uninstall: urllib3\n",
      "    Found existing installation: urllib3 2.1.0\n",
      "    Uninstalling urllib3-2.1.0:\n",
      "      Successfully uninstalled urllib3-2.1.0\n",
      "Successfully installed boto3-1.34.12 botocore-1.34.12 jmespath-1.0.1 s3transfer-0.10.0 urllib3-2.0.7\n"
     ]
    }
   ],
   "source": [
    "!pip install boto3"
   ]
  },
  {
   "cell_type": "code",
   "execution_count": 6,
   "metadata": {},
   "outputs": [],
   "source": [
    "import boto3\n",
    "from dotenv import load_dotenv\n",
    "import os\n",
    "\n",
    "load_dotenv()\n",
    "ACCESS_KEY = os.getenv('AWS_ACCESSKEY')\n",
    "SECRET_KEY = os.getenv('AWS_SECRETKEY')\n",
    "BUCKET_NAME = 'class-up'\n",
    "REGION_NAME = 'ap-northeast-2'"
   ]
  },
  {
   "cell_type": "code",
   "execution_count": 7,
   "metadata": {},
   "outputs": [],
   "source": [
    "def save_file_in_S3(fbx_file_path):\n",
    "    with open(fbx_file_path, \"rb\") as fbx:\n",
    "        fbx_data = fbx.read()\n",
    "\n",
    "    s3 = boto3.client('s3', aws_access_key_id=ACCESS_KEY, aws_secret_access_key=SECRET_KEY)\n",
    "\n",
    "    file_name = fbx_file_path.split('/')[-1]\n",
    "    object_name = f'AI/{file_name}'\n",
    "\n",
    "    try:\n",
    "        s3.put_object(Bucket=BUCKET_NAME, Key=object_name, Body=fbx_data)\n",
    "        file_url = f\"https://{BUCKET_NAME}.s3.{REGION_NAME}.amazonaws.com/{object_name}\"\n",
    "        print('Save fbx file in AWS S3 done')\n",
    "    except:\n",
    "        print('err')\n",
    "\n",
    "    return file_url"
   ]
  },
  {
   "cell_type": "code",
   "execution_count": 9,
   "metadata": {},
   "outputs": [
    {
     "name": "stdout",
     "output_type": "stream",
     "text": [
      "Save fbx file in AWS S3 done\n",
      "https://class-up.s3.ap-northeast-2.amazonaws.com/AI/default.png\n"
     ]
    }
   ],
   "source": [
    "url = save_file_in_S3('default.png')\n",
    "print(url)"
   ]
  },
  {
   "cell_type": "code",
   "execution_count": null,
   "metadata": {},
   "outputs": [],
   "source": []
  }
 ],
 "metadata": {
  "kernelspec": {
   "display_name": "mapia",
   "language": "python",
   "name": "python3"
  },
  "language_info": {
   "codemirror_mode": {
    "name": "ipython",
    "version": 3
   },
   "file_extension": ".py",
   "mimetype": "text/x-python",
   "name": "python",
   "nbconvert_exporter": "python",
   "pygments_lexer": "ipython3",
   "version": "3.10.13"
  }
 },
 "nbformat": 4,
 "nbformat_minor": 2
}
