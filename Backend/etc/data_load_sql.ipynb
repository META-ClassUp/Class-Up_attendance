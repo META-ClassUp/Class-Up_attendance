{
 "cells": [
  {
   "cell_type": "code",
   "execution_count": 1,
   "metadata": {},
   "outputs": [
    {
     "name": "stdout",
     "output_type": "stream",
     "text": [
      "Collecting mysql-connector-python\n",
      "  Downloading mysql_connector_python-8.2.0-cp310-cp310-win_amd64.whl.metadata (2.1 kB)\n",
      "Collecting protobuf<=4.21.12,>=4.21.1 (from mysql-connector-python)\n",
      "  Downloading protobuf-4.21.12-cp310-abi3-win_amd64.whl (527 kB)\n",
      "     ---------------------------------------- 0.0/527.0 kB ? eta -:--:--\n",
      "     ---------------------------------------- 0.0/527.0 kB ? eta -:--:--\n",
      "      --------------------------------------- 10.2/527.0 kB ? eta -:--:--\n",
      "     ---- -------------------------------- 61.4/527.0 kB 812.7 kB/s eta 0:00:01\n",
      "     ------------------ ------------------- 256.0/527.0 kB 2.2 MB/s eta 0:00:01\n",
      "     -------------------------------------  522.2/527.0 kB 3.3 MB/s eta 0:00:01\n",
      "     -------------------------------------- 527.0/527.0 kB 3.0 MB/s eta 0:00:00\n",
      "Downloading mysql_connector_python-8.2.0-cp310-cp310-win_amd64.whl (14.2 MB)\n",
      "   ---------------------------------------- 0.0/14.2 MB ? eta -:--:--\n",
      "   - -------------------------------------- 0.4/14.2 MB 12.5 MB/s eta 0:00:02\n",
      "   -- ------------------------------------- 0.8/14.2 MB 9.5 MB/s eta 0:00:02\n",
      "   --- ------------------------------------ 1.3/14.2 MB 10.3 MB/s eta 0:00:02\n",
      "   ----- ---------------------------------- 1.8/14.2 MB 10.4 MB/s eta 0:00:02\n",
      "   ------- -------------------------------- 2.5/14.2 MB 11.4 MB/s eta 0:00:02\n",
      "   -------- ------------------------------- 3.1/14.2 MB 11.5 MB/s eta 0:00:01\n",
      "   ---------- ----------------------------- 3.8/14.2 MB 12.0 MB/s eta 0:00:01\n",
      "   ----------- ---------------------------- 4.2/14.2 MB 11.7 MB/s eta 0:00:01\n",
      "   ------------- -------------------------- 5.0/14.2 MB 12.2 MB/s eta 0:00:01\n",
      "   --------------- ------------------------ 5.4/14.2 MB 11.9 MB/s eta 0:00:01\n",
      "   ----------------- ---------------------- 6.1/14.2 MB 12.1 MB/s eta 0:00:01\n",
      "   ------------------ --------------------- 6.5/14.2 MB 11.9 MB/s eta 0:00:01\n",
      "   ------------------- -------------------- 6.9/14.2 MB 11.6 MB/s eta 0:00:01\n",
      "   --------------------- ------------------ 7.5/14.2 MB 11.7 MB/s eta 0:00:01\n",
      "   ---------------------- ----------------- 8.0/14.2 MB 11.7 MB/s eta 0:00:01\n",
      "   ------------------------ --------------- 8.7/14.2 MB 11.8 MB/s eta 0:00:01\n",
      "   ------------------------- -------------- 9.1/14.2 MB 11.7 MB/s eta 0:00:01\n",
      "   --------------------------- ------------ 9.8/14.2 MB 11.8 MB/s eta 0:00:01\n",
      "   ---------------------------- ----------- 10.2/14.2 MB 11.6 MB/s eta 0:00:01\n",
      "   ------------------------------ --------- 11.0/14.2 MB 12.1 MB/s eta 0:00:01\n",
      "   --------------------------------- ------ 11.8/14.2 MB 12.6 MB/s eta 0:00:01\n",
      "   ---------------------------------- ----- 12.4/14.2 MB 12.6 MB/s eta 0:00:01\n",
      "   ------------------------------------ --- 12.9/14.2 MB 12.6 MB/s eta 0:00:01\n",
      "   -------------------------------------- - 13.6/14.2 MB 12.6 MB/s eta 0:00:01\n",
      "   ---------------------------------------  14.2/14.2 MB 12.6 MB/s eta 0:00:01\n",
      "   ---------------------------------------  14.2/14.2 MB 12.6 MB/s eta 0:00:01\n",
      "   ---------------------------------------- 14.2/14.2 MB 11.7 MB/s eta 0:00:00\n",
      "Installing collected packages: protobuf, mysql-connector-python\n",
      "Successfully installed mysql-connector-python-8.2.0 protobuf-4.21.12\n"
     ]
    }
   ],
   "source": [
    "!pip install mysql-connector-python"
   ]
  },
  {
   "cell_type": "code",
   "execution_count": 6,
   "metadata": {},
   "outputs": [
    {
     "name": "stdout",
     "output_type": "stream",
     "text": [
      "SQL script '../backup/db/study_20231228_172556.sql' executed successfully\n",
      "MySQL connection is closed\n"
     ]
    }
   ],
   "source": [
    "import mysql.connector\n",
    "from mysql.connector import Error\n",
    "\n",
    "def execute_sql_file(filename, host, database, user, password):\n",
    "    # 데이터베이스 연결\n",
    "    try:\n",
    "        connection = mysql.connector.connect(host=host,\n",
    "                                             database=database,\n",
    "                                             user=user,\n",
    "                                             password=password)\n",
    "        if connection.is_connected():\n",
    "            cursor = connection.cursor()\n",
    "\n",
    "            # SQL 파일 읽기\n",
    "            with open(filename, 'r') as file:\n",
    "                sql_script = file.read()\n",
    "\n",
    "            # SQL 명령문 실행\n",
    "            for statement in sql_script.split(';'):\n",
    "                if statement.strip():\n",
    "                    cursor.execute(statement)\n",
    "\n",
    "            connection.commit()\n",
    "            print(f\"SQL script '{filename}' executed successfully\")\n",
    "\n",
    "    except Error as e:\n",
    "        print(f\"Error while connecting to MySQL: {e}\")\n",
    "\n",
    "    finally:\n",
    "        if connection.is_connected():\n",
    "            cursor.close()\n",
    "            connection.close()\n",
    "            print(\"MySQL connection is closed\")\n",
    "\n",
    "# 사용 예\n",
    "execute_sql_file(\"../backup/db/study_20231228_172556.sql\", \"localhost\", \"study_test\", \"root\", \"0000\")\n"
   ]
  },
  {
   "cell_type": "code",
   "execution_count": null,
   "metadata": {},
   "outputs": [],
   "source": []
  }
 ],
 "metadata": {
  "kernelspec": {
   "display_name": "mapia",
   "language": "python",
   "name": "python3"
  },
  "language_info": {
   "codemirror_mode": {
    "name": "ipython",
    "version": 3
   },
   "file_extension": ".py",
   "mimetype": "text/x-python",
   "name": "python",
   "nbconvert_exporter": "python",
   "pygments_lexer": "ipython3",
   "version": "3.10.13"
  }
 },
 "nbformat": 4,
 "nbformat_minor": 2
}
