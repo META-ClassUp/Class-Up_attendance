{
 "cells": [
  {
   "cell_type": "code",
   "execution_count": 1,
   "metadata": {},
   "outputs": [],
   "source": [
    "from dotenv import load_dotenv\n",
    "import os\n",
    "\n",
    "load_dotenv()\n",
    "\n",
    "DB_USER = os.getenv('MYSQL_USER')\n",
    "DB_PASSWORD = os.getenv('MYSQL_PASSWORD')\n",
    "DB_HOST = os.getenv('MYSQL_HOST')\n",
    "DB_PORT = os.getenv('MYSQL_PORT')\n",
    "DATABASE = os.getenv('MYSQL_DATABASE')\n",
    "\n",
    "import pymysql \n",
    "\n",
    "conn = pymysql.connect(host=DB_HOST, user=DB_USER, password=DB_PASSWORD, charset='utf8') \n",
    "cursor = conn.cursor() "
   ]
  },
  {
   "cell_type": "code",
   "execution_count": 2,
   "metadata": {},
   "outputs": [],
   "source": [
    "conn = pymysql.connect(host=DB_HOST, user=DB_USER, password=DB_PASSWORD, charset='utf8') \n",
    "cursor = conn.cursor() \n",
    "\n",
    "sql = \"DROP DATABASE study\"\n",
    "\n",
    "cursor.execute(sql)\n",
    "\n",
    "conn.commit()\n",
    "conn.close()"
   ]
  },
  {
   "cell_type": "code",
   "execution_count": 3,
   "metadata": {},
   "outputs": [],
   "source": [
    "conn = pymysql.connect(host=DB_HOST, user=DB_USER, password=DB_PASSWORD, charset='utf8') \n",
    "cursor = conn.cursor() \n",
    "\n",
    "sql = \"CREATE DATABASE study\" \n",
    "\n",
    "cursor.execute(sql) \n",
    "\n",
    "conn.commit() \n",
    "conn.close() "
   ]
  },
  {
   "cell_type": "code",
   "execution_count": 4,
   "metadata": {},
   "outputs": [
    {
     "name": "stdout",
     "output_type": "stream",
     "text": [
      "Status Code: 204\n",
      "Response Body: \n",
      "Status Code: 204\n",
      "Response Body: \n",
      "Status Code: 204\n",
      "Response Body: \n"
     ]
    }
   ],
   "source": [
    "import requests\n",
    "import json\n",
    "\n",
    "# 요청할 URL\n",
    "url = \"http://127.0.0.1:8000/api/user/create\"\n",
    "\n",
    "# 전송할 데이터\n",
    "data = {\n",
    "    \"user_id\": \"ss\",\n",
    "    \"user_name\": \"string\",\n",
    "    \"password1\": \"s\",\n",
    "    \"password2\": \"s\",\n",
    "    \"email\": \"user@example.com\",\n",
    "    \"phone_number\": \"01022221111\"\n",
    "}\n",
    "\n",
    "# JSON 형식으로 데이터를 POST 요청\n",
    "response = requests.post(url, json=data)\n",
    "\n",
    "# 응답 출력\n",
    "print(\"Status Code:\", response.status_code)\n",
    "print(\"Response Body:\", response.text)\n",
    "\n",
    "# 요청할 URL\n",
    "url = \"http://127.0.0.1:8000/api/user/create\"\n",
    "\n",
    "# 전송할 데이터\n",
    "data = {\n",
    "    \"user_id\": \"aa\",\n",
    "    \"user_name\": \"asasas\",\n",
    "    \"password1\": \"a\",\n",
    "    \"password2\": \"a\",\n",
    "    \"email\": \"user@exaaample.com\",\n",
    "    \"phone_number\": \"01023221111\"\n",
    "}\n",
    "\n",
    "# JSON 형식으로 데이터를 POST 요청\n",
    "response = requests.post(url, json=data)\n",
    "\n",
    "# 응답 출력\n",
    "print(\"Status Code:\", response.status_code)\n",
    "print(\"Response Body:\", response.text)\n",
    "\n",
    "# 요청할 URL\n",
    "url = \"http://127.0.0.1:8000/api/user/create\"\n",
    "\n",
    "# 전송할 데이터\n",
    "data = {\n",
    "    \"user_id\": \"cccc\",\n",
    "    \"user_name\": \"cccccccc\",\n",
    "    \"password1\": \"a\",\n",
    "    \"password2\": \"a\",\n",
    "    \"email\": \"user@excaaample.com\",\n",
    "    \"phone_number\": \"01025221111\"\n",
    "}\n",
    "\n",
    "# JSON 형식으로 데이터를 POST 요청\n",
    "response = requests.post(url, json=data)\n",
    "\n",
    "# 응답 출력\n",
    "print(\"Status Code:\", response.status_code)\n",
    "print(\"Response Body:\", response.text)"
   ]
  },
  {
   "cell_type": "code",
   "execution_count": null,
   "metadata": {},
   "outputs": [],
   "source": []
  }
 ],
 "metadata": {
  "kernelspec": {
   "display_name": "mapia",
   "language": "python",
   "name": "python3"
  },
  "language_info": {
   "codemirror_mode": {
    "name": "ipython",
    "version": 3
   },
   "file_extension": ".py",
   "mimetype": "text/x-python",
   "name": "python",
   "nbconvert_exporter": "python",
   "pygments_lexer": "ipython3",
   "version": "3.10.13"
  }
 },
 "nbformat": 4,
 "nbformat_minor": 2
}
